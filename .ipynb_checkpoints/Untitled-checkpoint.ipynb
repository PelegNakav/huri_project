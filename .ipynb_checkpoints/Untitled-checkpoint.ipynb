{
 "cells": [
  {
   "cell_type": "code",
   "execution_count": 2,
   "id": "a2acc592-2d0a-4237-bf3c-fa72a2d3b3f9",
   "metadata": {},
   "outputs": [],
   "source": [
    "import pelegtest"
   ]
  },
  {
   "cell_type": "code",
   "execution_count": 3,
   "id": "dc734963-b108-4627-b198-695493abc08e",
   "metadata": {},
   "outputs": [
    {
     "ename": "NameError",
     "evalue": "name 'admatay' is not defined",
     "output_type": "error",
     "traceback": [
      "\u001b[1;31m---------------------------------------------------------------------------\u001b[0m",
      "\u001b[1;31mNameError\u001b[0m                                 Traceback (most recent call last)",
      "Cell \u001b[1;32mIn[3], line 1\u001b[0m\n\u001b[1;32m----> 1\u001b[0m \u001b[43madmatay\u001b[49m()\n",
      "\u001b[1;31mNameError\u001b[0m: name 'admatay' is not defined"
     ]
    }
   ],
   "source": [
    "admatay()"
   ]
  },
  {
   "cell_type": "code",
   "execution_count": 4,
   "id": "5bee004e-d394-4476-8ef3-531977a56af0",
   "metadata": {},
   "outputs": [
    {
     "name": "stdout",
     "output_type": "stream",
     "text": [
      "hello world\n"
     ]
    }
   ],
   "source": [
    "pelegtest.admatay()"
   ]
  }
 ],
 "metadata": {
  "kernelspec": {
   "display_name": "Python 3 (ipykernel)",
   "language": "python",
   "name": "python3"
  },
  "language_info": {
   "codemirror_mode": {
    "name": "ipython",
    "version": 3
   },
   "file_extension": ".py",
   "mimetype": "text/x-python",
   "name": "python",
   "nbconvert_exporter": "python",
   "pygments_lexer": "ipython3",
   "version": "3.10.4"
  }
 },
 "nbformat": 4,
 "nbformat_minor": 5
}
