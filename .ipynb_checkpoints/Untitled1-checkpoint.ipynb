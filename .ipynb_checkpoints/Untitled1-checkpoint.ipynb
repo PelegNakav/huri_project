{
 "cells": [
  {
   "cell_type": "code",
   "execution_count": 4,
   "id": "6126af31-374b-4872-8491-6944b36df673",
   "metadata": {},
   "outputs": [
    {
     "name": "stdout",
     "output_type": "stream",
     "text": [
      "Response data saved to 'C:\\Users\\peleg\\peleg_test123'.\n"
     ]
    }
   ],
   "source": [
    "import huritest\n",
    "huritest.download_csv()"
   ]
  },
  {
   "cell_type": "code",
   "execution_count": null,
   "id": "ebbdb21c-b1b5-4e60-931c-dc82ed81a6af",
   "metadata": {},
   "outputs": [],
   "source": []
  }
 ],
 "metadata": {
  "kernelspec": {
   "display_name": "Python 3 (ipykernel)",
   "language": "python",
   "name": "python3"
  },
  "language_info": {
   "codemirror_mode": {
    "name": "ipython",
    "version": 3
   },
   "file_extension": ".py",
   "mimetype": "text/x-python",
   "name": "python",
   "nbconvert_exporter": "python",
   "pygments_lexer": "ipython3",
   "version": "3.10.4"
  }
 },
 "nbformat": 4,
 "nbformat_minor": 5
}
